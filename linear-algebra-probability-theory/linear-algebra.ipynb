{
 "cells": [
  {
   "cell_type": "markdown",
   "metadata": {
    "id": "tgLRq78v59uG"
   },
   "source": [
    "# Linear Algebra"
   ]
  },
  {
   "cell_type": "markdown",
   "metadata": {},
   "source": [
    "## a. Vector Operations"
   ]
  },
  {
   "cell_type": "markdown",
   "metadata": {
    "id": "gO3mZc9i59uI"
   },
   "source": [
    "#### Scalar Multiplication of vector"
   ]
  },
  {
   "cell_type": "code",
   "execution_count": 2,
   "metadata": {
    "executionInfo": {
     "elapsed": 234,
     "status": "ok",
     "timestamp": 1695520767490,
     "user": {
      "displayName": "Ahmad Rashidh",
      "userId": "17250827789938225012"
     },
     "user_tz": -60
    },
    "id": "_ULIKkbM59uI"
   },
   "outputs": [],
   "source": [
    "import numpy as np\n",
    "def scalar_multiply(vector, const):\n",
    "    output_vector = list()\n",
    "    for x in vector:\n",
    "        output_vector.append(const * x)\n",
    "    return output_vector"
   ]
  },
  {
   "cell_type": "code",
   "execution_count": 3,
   "metadata": {
    "colab": {
     "base_uri": "https://localhost:8080/"
    },
    "executionInfo": {
     "elapsed": 228,
     "status": "ok",
     "timestamp": 1695520770752,
     "user": {
      "displayName": "Ahmad Rashidh",
      "userId": "17250827789938225012"
     },
     "user_tz": -60
    },
    "id": "BRte66h759uJ",
    "outputId": "3bd6f2ce-e49b-4560-cb56-5ff78d216f5b"
   },
   "outputs": [
    {
     "name": "stdout",
     "output_type": "stream",
     "text": [
      "Result of scalar_multiply(): [5, 10]\n",
      "Result by numpy: [ 5 10]\n"
     ]
    }
   ],
   "source": [
    "input = [1,2]\n",
    "const = 5\n",
    "print(\"Result of scalar_multiply():\", scalar_multiply(input, const))\n",
    "print(\"Result by numpy:\", np.array(input) * const)"
   ]
  },
  {
   "cell_type": "markdown",
   "metadata": {
    "id": "ideDxmKg59uK"
   },
   "source": [
    "#### Addition of two vectors"
   ]
  },
  {
   "cell_type": "code",
   "execution_count": 4,
   "metadata": {
    "executionInfo": {
     "elapsed": 202,
     "status": "ok",
     "timestamp": 1695520780936,
     "user": {
      "displayName": "Ahmad Rashidh",
      "userId": "17250827789938225012"
     },
     "user_tz": -60
    },
    "id": "hPLGJAr659uK"
   },
   "outputs": [],
   "source": [
    "def add_vectors(vector_a, vector_b):\n",
    "    if not len(vector_a) == len(vector_b):\n",
    "        return \"ErrorMessage: Vector addition cannot be applied on the vectors of different sizes\"\n",
    "\n",
    "    output_vector = list()\n",
    "    for idx in range(len(vector_a)):\n",
    "        output_vector.append(vector_a[idx] + vector_b[idx])\n",
    "\n",
    "    return output_vector\n"
   ]
  },
  {
   "cell_type": "code",
   "execution_count": 5,
   "metadata": {
    "colab": {
     "base_uri": "https://localhost:8080/"
    },
    "executionInfo": {
     "elapsed": 3,
     "status": "ok",
     "timestamp": 1695520781135,
     "user": {
      "displayName": "Ahmad Rashidh",
      "userId": "17250827789938225012"
     },
     "user_tz": -60
    },
    "id": "wlcztFzT59uL",
    "outputId": "d936d406-a901-4edc-bcda-c42f9b32727e"
   },
   "outputs": [
    {
     "name": "stdout",
     "output_type": "stream",
     "text": [
      "ErrorMessage: Vector addition cannot be applied on the vectors of different sizes\n"
     ]
    }
   ],
   "source": [
    "vector_a = [1,2]\n",
    "vector_b = [4,5,3]\n",
    "print(add_vectors(vector_a, vector_b))"
   ]
  },
  {
   "cell_type": "code",
   "execution_count": 6,
   "metadata": {
    "colab": {
     "base_uri": "https://localhost:8080/"
    },
    "executionInfo": {
     "elapsed": 195,
     "status": "ok",
     "timestamp": 1695520796596,
     "user": {
      "displayName": "Ahmad Rashidh",
      "userId": "17250827789938225012"
     },
     "user_tz": -60
    },
    "id": "8p0pbZ1X59uL",
    "outputId": "bca5a3e5-d7ea-4097-a751-9409d3b90e4f"
   },
   "outputs": [
    {
     "name": "stdout",
     "output_type": "stream",
     "text": [
      "Result of add_vectors() [5, 7]\n",
      "Result of numpy.add() [5 7]\n"
     ]
    }
   ],
   "source": [
    "vector_a = [1,2]\n",
    "vector_b = [4,5]\n",
    "print(\"Result of add_vectors()\", add_vectors(vector_a, vector_b))\n",
    "print(\"Result of numpy.add()\", np.add(vector_a, vector_b))"
   ]
  },
  {
   "cell_type": "markdown",
   "metadata": {
    "id": "Vty0uq1s59uL"
   },
   "source": [
    "#### Subtraction of two vectors"
   ]
  },
  {
   "cell_type": "code",
   "execution_count": 7,
   "metadata": {
    "executionInfo": {
     "elapsed": 217,
     "status": "ok",
     "timestamp": 1695520811001,
     "user": {
      "displayName": "Ahmad Rashidh",
      "userId": "17250827789938225012"
     },
     "user_tz": -60
    },
    "id": "QKzp9ytZ59uL"
   },
   "outputs": [],
   "source": [
    "def subtract_vectors(vector_a, vector_b):\n",
    "    if not len(vector_a) == len(vector_b):\n",
    "        return \"ErrorMessage: Vector subtraction cannot be applied on the vectors of different sizes\"\n",
    "\n",
    "    output_vector = list()\n",
    "\n",
    "    for idx in range(len(vector_a)):\n",
    "        output_vector.append(vector_a[idx] - vector_b[idx])\n",
    "\n",
    "    return output_vector\n"
   ]
  },
  {
   "cell_type": "code",
   "execution_count": 8,
   "metadata": {
    "colab": {
     "base_uri": "https://localhost:8080/"
    },
    "executionInfo": {
     "elapsed": 3,
     "status": "ok",
     "timestamp": 1695520811693,
     "user": {
      "displayName": "Ahmad Rashidh",
      "userId": "17250827789938225012"
     },
     "user_tz": -60
    },
    "id": "MArxSVA559uL",
    "outputId": "b0ca5b91-227c-4414-a601-3c1967bb80f3"
   },
   "outputs": [
    {
     "name": "stdout",
     "output_type": "stream",
     "text": [
      "ErrorMessage: Vector subtraction cannot be applied on the vectors of different sizes\n"
     ]
    }
   ],
   "source": [
    "vector_a = [1,2]\n",
    "vector_b = [4,5,3]\n",
    "print(subtract_vectors(vector_a, vector_b))"
   ]
  },
  {
   "cell_type": "code",
   "execution_count": 9,
   "metadata": {
    "colab": {
     "base_uri": "https://localhost:8080/"
    },
    "executionInfo": {
     "elapsed": 202,
     "status": "ok",
     "timestamp": 1695520812218,
     "user": {
      "displayName": "Ahmad Rashidh",
      "userId": "17250827789938225012"
     },
     "user_tz": -60
    },
    "id": "mVaqhoFN59uL",
    "outputId": "5d34e3c6-cb9d-4fc8-b2c0-d7378959819d"
   },
   "outputs": [
    {
     "name": "stdout",
     "output_type": "stream",
     "text": [
      "Output of subtract_vectors(): [-3, -3]\n",
      "Output of numpy.subtract(): [-3 -3]\n"
     ]
    }
   ],
   "source": [
    "vector_a = [1,2]\n",
    "vector_b = [4,5]\n",
    "print(\"Output of subtract_vectors():\", subtract_vectors(vector_a, vector_b))\n",
    "print(\"Output of numpy.subtract():\", np.subtract(vector_a, vector_b))"
   ]
  },
  {
   "cell_type": "markdown",
   "metadata": {
    "id": "hhuh6H7e59uM"
   },
   "source": [
    "#### Dot product of vectors"
   ]
  },
  {
   "cell_type": "code",
   "execution_count": 10,
   "metadata": {
    "executionInfo": {
     "elapsed": 224,
     "status": "ok",
     "timestamp": 1695520815707,
     "user": {
      "displayName": "Ahmad Rashidh",
      "userId": "17250827789938225012"
     },
     "user_tz": -60
    },
    "id": "6fGrbbOp59uM"
   },
   "outputs": [],
   "source": [
    "def dot_product(vector_a, vector_b):\n",
    "    if not len(vector_a) == len(vector_b):\n",
    "        return \"ErrorMessage: Dot product cannot be applied on the vectors of different sizes\"\n",
    "\n",
    "    product = 0\n",
    "\n",
    "    for idx in range(len(vector_a)):\n",
    "        product += (vector_a[idx] * vector_b[idx])\n",
    "\n",
    "    return product"
   ]
  },
  {
   "cell_type": "code",
   "execution_count": 11,
   "metadata": {
    "colab": {
     "base_uri": "https://localhost:8080/"
    },
    "executionInfo": {
     "elapsed": 5,
     "status": "ok",
     "timestamp": 1695520816347,
     "user": {
      "displayName": "Ahmad Rashidh",
      "userId": "17250827789938225012"
     },
     "user_tz": -60
    },
    "id": "dHf3Um3J59uM",
    "outputId": "e047bc78-2147-4f82-99f9-e1722be62b11"
   },
   "outputs": [
    {
     "name": "stdout",
     "output_type": "stream",
     "text": [
      "ErrorMessage: Dot product cannot be applied on the vectors of different sizes\n"
     ]
    }
   ],
   "source": [
    "vector_a = [1,2]\n",
    "vector_b = [4,5,3]\n",
    "print(dot_product(vector_a, vector_b));"
   ]
  },
  {
   "cell_type": "code",
   "execution_count": 12,
   "metadata": {
    "colab": {
     "base_uri": "https://localhost:8080/"
    },
    "executionInfo": {
     "elapsed": 195,
     "status": "ok",
     "timestamp": 1695520819795,
     "user": {
      "displayName": "Ahmad Rashidh",
      "userId": "17250827789938225012"
     },
     "user_tz": -60
    },
    "id": "yJ_bvMUb59uM",
    "outputId": "feb15072-4a6a-4139-8c23-96df251cc978"
   },
   "outputs": [
    {
     "name": "stdout",
     "output_type": "stream",
     "text": [
      "Output of dot_product(): 23\n",
      "Output of numpy.dot(): 23\n"
     ]
    }
   ],
   "source": [
    "vector_a = [1,2,3]\n",
    "vector_b = [4,5,3]\n",
    "print(\"Output of dot_product():\", dot_product(vector_a, vector_b));\n",
    "print(\"Output of numpy.dot():\", np.dot(vector_a, vector_b))"
   ]
  },
  {
   "cell_type": "markdown",
   "metadata": {
    "id": "XrJrikhJ59uM"
   },
   "source": [
    "#### Cross product of two 3D vectors"
   ]
  },
  {
   "cell_type": "code",
   "execution_count": 13,
   "metadata": {
    "executionInfo": {
     "elapsed": 214,
     "status": "ok",
     "timestamp": 1695520822972,
     "user": {
      "displayName": "Ahmad Rashidh",
      "userId": "17250827789938225012"
     },
     "user_tz": -60
    },
    "id": "qf_gaTYN59uM"
   },
   "outputs": [],
   "source": [
    "def cross_product(vector_a, vector_b):\n",
    "    if len(vector_a) != 3 or len(vector_b) != 3:\n",
    "        return \"ErrorMessage: Anyone of the vector is not three-dimensional\"\n",
    "\n",
    "    cross_product = list()\n",
    "    cross_product.append((vector_a[1] * vector_b[2]) - (vector_a[2] * vector_b[1]))\n",
    "    cross_product.append((vector_a[2] * vector_b[0]) - (vector_a[0] * vector_b[2]))\n",
    "    cross_product.append((vector_a[0] * vector_b[1]) - (vector_a[1] * vector_b[0]))\n",
    "\n",
    "    return cross_product"
   ]
  },
  {
   "cell_type": "code",
   "execution_count": 14,
   "metadata": {
    "colab": {
     "base_uri": "https://localhost:8080/"
    },
    "executionInfo": {
     "elapsed": 3,
     "status": "ok",
     "timestamp": 1695520823530,
     "user": {
      "displayName": "Ahmad Rashidh",
      "userId": "17250827789938225012"
     },
     "user_tz": -60
    },
    "id": "ZfQ4lcfy59uM",
    "outputId": "4476f8d0-8052-4951-a688-02a1927acc3d"
   },
   "outputs": [
    {
     "name": "stdout",
     "output_type": "stream",
     "text": [
      "ErrorMessage: Anyone of the vector is not three-dimensional\n"
     ]
    }
   ],
   "source": [
    "vector_a = [1,2]\n",
    "vector_b = [4,5]\n",
    "\n",
    "print(cross_product(vector_a, vector_b));"
   ]
  },
  {
   "cell_type": "code",
   "execution_count": 15,
   "metadata": {
    "colab": {
     "base_uri": "https://localhost:8080/"
    },
    "executionInfo": {
     "elapsed": 204,
     "status": "ok",
     "timestamp": 1695520825869,
     "user": {
      "displayName": "Ahmad Rashidh",
      "userId": "17250827789938225012"
     },
     "user_tz": -60
    },
    "id": "vkCGttwC59uN",
    "outputId": "78d2c686-393a-4d14-a109-7dcd406d2259"
   },
   "outputs": [
    {
     "name": "stdout",
     "output_type": "stream",
     "text": [
      "Output of cross_product(): [-3, 6, -3]\n",
      "Output of numpy.cross(): [-3  6 -3]\n"
     ]
    }
   ],
   "source": [
    "vector_a = [1,2,3]\n",
    "vector_b = [4,5,6]\n",
    "print(\"Output of cross_product():\", cross_product(vector_a, vector_b));\n",
    "print(\"Output of numpy.cross():\", np.cross(vector_a, vector_b))"
   ]
  },
  {
   "cell_type": "markdown",
   "metadata": {
    "id": "PwRGE_jf59uN"
   },
   "source": [
    "## b. Matrix Operations"
   ]
  },
  {
   "cell_type": "markdown",
   "metadata": {
    "id": "t5_rfIzX59uN"
   },
   "source": [
    "#### Size of the matrix as two-dimensional tuple"
   ]
  },
  {
   "cell_type": "code",
   "execution_count": 16,
   "metadata": {
    "executionInfo": {
     "elapsed": 220,
     "status": "ok",
     "timestamp": 1695520828842,
     "user": {
      "displayName": "Ahmad Rashidh",
      "userId": "17250827789938225012"
     },
     "user_tz": -60
    },
    "id": "ogADY8W159uN"
   },
   "outputs": [],
   "source": [
    "def size_of_matrix(matrix):\n",
    "    return (len(matrix), len(matrix[0]))"
   ]
  },
  {
   "cell_type": "code",
   "execution_count": 17,
   "metadata": {
    "colab": {
     "base_uri": "https://localhost:8080/"
    },
    "executionInfo": {
     "elapsed": 3,
     "status": "ok",
     "timestamp": 1695520829155,
     "user": {
      "displayName": "Ahmad Rashidh",
      "userId": "17250827789938225012"
     },
     "user_tz": -60
    },
    "id": "qpLtyYBO59uN",
    "outputId": "077ba5ae-f524-4841-c4c7-b588511dbcba"
   },
   "outputs": [
    {
     "name": "stdout",
     "output_type": "stream",
     "text": [
      "Size of matrix: (2, 3)\n"
     ]
    }
   ],
   "source": [
    "matrix = [[1,2,3],[3,4,5]]\n",
    "print(\"Size of matrix:\", size_of_matrix(matrix))"
   ]
  },
  {
   "cell_type": "markdown",
   "metadata": {
    "id": "MXglx5Rc59uN"
   },
   "source": [
    "#### Sum of two matrices"
   ]
  },
  {
   "cell_type": "code",
   "execution_count": 18,
   "metadata": {
    "executionInfo": {
     "elapsed": 194,
     "status": "ok",
     "timestamp": 1695520833350,
     "user": {
      "displayName": "Ahmad Rashidh",
      "userId": "17250827789938225012"
     },
     "user_tz": -60
    },
    "id": "_YHV1vED59uN"
   },
   "outputs": [],
   "source": [
    "def sum_matrices(matrix_a, matrix_b):\n",
    "    size_a = size_of_matrix(matrix_a)\n",
    "    size_b = size_of_matrix(matrix_b)\n",
    "    if size_a[0] != size_b[0] or size_a[1] != size_b[1]:\n",
    "        return \"ErrorMessage: Sum of matrices cannot be applied for matrices of different dimensions\"\n",
    "\n",
    "    matrix_sum = list()\n",
    "\n",
    "    for ridx in range(len(matrix_a)):\n",
    "        vector_row = list()\n",
    "        for cidx in range(len(matrix_a[0])):\n",
    "            vector_row.append(matrix_a[ridx][cidx] + matrix_b[ridx][cidx])\n",
    "        matrix_sum.append(vector_row)\n",
    "\n",
    "    return matrix_sum"
   ]
  },
  {
   "cell_type": "code",
   "execution_count": 19,
   "metadata": {
    "colab": {
     "base_uri": "https://localhost:8080/"
    },
    "executionInfo": {
     "elapsed": 5,
     "status": "ok",
     "timestamp": 1695520833602,
     "user": {
      "displayName": "Ahmad Rashidh",
      "userId": "17250827789938225012"
     },
     "user_tz": -60
    },
    "id": "JjLwudzs59uN",
    "outputId": "d56d5d0d-63b1-496b-a03e-7c83a6ae333e"
   },
   "outputs": [
    {
     "name": "stdout",
     "output_type": "stream",
     "text": [
      "ErrorMessage: Sum of matrices cannot be applied for matrices of different dimensions\n"
     ]
    }
   ],
   "source": [
    "matrix_a = [[1,2],[3,4]]\n",
    "matrix_b = [[5,6,7],[7,8,9]]\n",
    "print(sum_matrices(matrix_a, matrix_b))"
   ]
  },
  {
   "cell_type": "code",
   "execution_count": 20,
   "metadata": {
    "colab": {
     "base_uri": "https://localhost:8080/"
    },
    "executionInfo": {
     "elapsed": 198,
     "status": "ok",
     "timestamp": 1695520834638,
     "user": {
      "displayName": "Ahmad Rashidh",
      "userId": "17250827789938225012"
     },
     "user_tz": -60
    },
    "id": "fEHZ74Vi59uN",
    "outputId": "ee921566-3df2-4e76-c573-0c59a6110803"
   },
   "outputs": [
    {
     "name": "stdout",
     "output_type": "stream",
     "text": [
      "Output of sum_matrices(): [[6, 8], [10, 12]]\n",
      "Output of numpy.matrix(): [[ 6  8]\n",
      " [10 12]]\n"
     ]
    }
   ],
   "source": [
    "matrix_a = [[1,2],[3,4]]\n",
    "matrix_b = [[5,6],[7,8]]\n",
    "print(\"Output of sum_matrices():\", sum_matrices(matrix_a, matrix_b))\n",
    "print(\"Output of numpy.matrix():\", np.matrix(matrix_a) + np.matrix(matrix_b))"
   ]
  },
  {
   "cell_type": "markdown",
   "metadata": {
    "id": "n_svzHZH59uO"
   },
   "source": [
    "#### Subtraction of two matrices"
   ]
  },
  {
   "cell_type": "code",
   "execution_count": 21,
   "metadata": {
    "executionInfo": {
     "elapsed": 229,
     "status": "ok",
     "timestamp": 1695520837453,
     "user": {
      "displayName": "Ahmad Rashidh",
      "userId": "17250827789938225012"
     },
     "user_tz": -60
    },
    "id": "GxX_DbTI59uO"
   },
   "outputs": [],
   "source": [
    "def subtract_matrices(matrix_a, matrix_b):\n",
    "    size_a = size_of_matrix(matrix_a)\n",
    "    size_b = size_of_matrix(matrix_b)\n",
    "    if size_a[0] != size_b[0] or size_a[1] != size_b[1]:\n",
    "        return \"ErrorMessage: Subtraction of matrices cannot be applied for matrices of different dimensions\"\n",
    "\n",
    "    matrix_sum = list()\n",
    "\n",
    "    for ridx in range(len(matrix_a)):\n",
    "        vector_row = list()\n",
    "        for cidx in range(len(matrix_a[0])):\n",
    "            vector_row.append(matrix_a[ridx][cidx] - matrix_b[ridx][cidx])\n",
    "        matrix_sum.append(vector_row)\n",
    "\n",
    "    return matrix_sum\n"
   ]
  },
  {
   "cell_type": "code",
   "execution_count": 22,
   "metadata": {
    "colab": {
     "base_uri": "https://localhost:8080/"
    },
    "executionInfo": {
     "elapsed": 4,
     "status": "ok",
     "timestamp": 1695520837753,
     "user": {
      "displayName": "Ahmad Rashidh",
      "userId": "17250827789938225012"
     },
     "user_tz": -60
    },
    "id": "1Sthuxvj59uO",
    "outputId": "8dac4450-ee21-4c06-e770-1d1971fbca36"
   },
   "outputs": [
    {
     "name": "stdout",
     "output_type": "stream",
     "text": [
      "ErrorMessage: Subtraction of matrices cannot be applied for matrices of different dimensions\n"
     ]
    }
   ],
   "source": [
    "matrix_a = [[1,2],[3,4]]\n",
    "matrix_b = [[5,6,7],[7,8,9]]\n",
    "print(subtract_matrices(matrix_a, matrix_b))"
   ]
  },
  {
   "cell_type": "code",
   "execution_count": 23,
   "metadata": {
    "colab": {
     "base_uri": "https://localhost:8080/"
    },
    "executionInfo": {
     "elapsed": 321,
     "status": "ok",
     "timestamp": 1695520839987,
     "user": {
      "displayName": "Ahmad Rashidh",
      "userId": "17250827789938225012"
     },
     "user_tz": -60
    },
    "id": "W38tM_YD59uO",
    "outputId": "eb18c528-85af-4914-c498-061d51be7b70"
   },
   "outputs": [
    {
     "name": "stdout",
     "output_type": "stream",
     "text": [
      "Output of subtract_matrices(): [[-4, -4], [-4, -4]]\n",
      "Output using numpy [[-4 -4]\n",
      " [-4 -4]]\n"
     ]
    }
   ],
   "source": [
    "matrix_a = [[1,2],[3,4]]\n",
    "matrix_b = [[5,6],[7,8]]\n",
    "print(\"Output of subtract_matrices():\", subtract_matrices(matrix_a, matrix_b))\n",
    "print(\"Output using numpy\", np.matrix(matrix_a) - np.matrix(matrix_b))"
   ]
  },
  {
   "cell_type": "markdown",
   "metadata": {
    "id": "p_29ks3q59uO"
   },
   "source": [
    "#### Multiplcation of matrix with vector"
   ]
  },
  {
   "cell_type": "code",
   "execution_count": 24,
   "metadata": {
    "executionInfo": {
     "elapsed": 2,
     "status": "ok",
     "timestamp": 1695520841445,
     "user": {
      "displayName": "Ahmad Rashidh",
      "userId": "17250827789938225012"
     },
     "user_tz": -60
    },
    "id": "3xywvnxa59uO"
   },
   "outputs": [],
   "source": [
    "def multiply_matrix_vector(matrix, vector):\n",
    "    if len(matrix[0]) != len(vector):\n",
    "        return \"Multiplication of matrix and vector doesn't apply on unmatching dimension\"\n",
    "\n",
    "    prod_matrix = list()\n",
    "\n",
    "    for ridx in range(len(matrix)):\n",
    "        sum = 0\n",
    "        for cidx in range(len(matrix[0])):\n",
    "            sum += (matrix[ridx][cidx] * vector[cidx])\n",
    "        prod_matrix.append(sum)\n",
    "\n",
    "    return prod_matrix"
   ]
  },
  {
   "cell_type": "code",
   "execution_count": 25,
   "metadata": {
    "colab": {
     "base_uri": "https://localhost:8080/"
    },
    "executionInfo": {
     "elapsed": 5,
     "status": "ok",
     "timestamp": 1695520842110,
     "user": {
      "displayName": "Ahmad Rashidh",
      "userId": "17250827789938225012"
     },
     "user_tz": -60
    },
    "id": "4-wIEltv59uV",
    "outputId": "b0781650-388e-4f6f-fc60-66ad03398fb4"
   },
   "outputs": [
    {
     "name": "stdout",
     "output_type": "stream",
     "text": [
      "Multiplication of matrix and vector doesn't apply on unmatching dimension\n"
     ]
    }
   ],
   "source": [
    "matrix = [[1,2],[3,4]]\n",
    "vector = [5,6,7]\n",
    "print(multiply_matrix_vector(matrix, vector))"
   ]
  },
  {
   "cell_type": "code",
   "execution_count": 26,
   "metadata": {
    "colab": {
     "base_uri": "https://localhost:8080/"
    },
    "executionInfo": {
     "elapsed": 209,
     "status": "ok",
     "timestamp": 1695520844375,
     "user": {
      "displayName": "Ahmad Rashidh",
      "userId": "17250827789938225012"
     },
     "user_tz": -60
    },
    "id": "POL-7Yf559uV",
    "outputId": "5a119ba1-e552-4af7-ff35-b296b8cf7586"
   },
   "outputs": [
    {
     "name": "stdout",
     "output_type": "stream",
     "text": [
      "Output of multiply_matrix_vector: [17, 39]\n",
      "Output of numpy.array.dot(): [17 39]\n"
     ]
    }
   ],
   "source": [
    "matrix = [[1,2],[3,4]]\n",
    "vector = [5,6]\n",
    "print(\"Output of multiply_matrix_vector:\",multiply_matrix_vector(matrix, vector))\n",
    "print(\"Output of numpy.array.dot():\",np.array(matrix).dot(np.array(vector)))"
   ]
  },
  {
   "cell_type": "markdown",
   "metadata": {
    "id": "jjj1k0P_59uV"
   },
   "source": [
    "#### Multiplication of Matrices"
   ]
  },
  {
   "cell_type": "code",
   "execution_count": 27,
   "metadata": {
    "executionInfo": {
     "elapsed": 197,
     "status": "ok",
     "timestamp": 1695520847782,
     "user": {
      "displayName": "Ahmad Rashidh",
      "userId": "17250827789938225012"
     },
     "user_tz": -60
    },
    "id": "WFkSdnRx59uV"
   },
   "outputs": [],
   "source": [
    "def multiply_matrices(matrix_a, matrix_b):\n",
    "    size_a = size_of_matrix(matrix_a)\n",
    "    size_b = size_of_matrix(matrix_b)\n",
    "    if size_a[1] != size_b[0]:\n",
    "        return \"Multiplication of two matrices doesn't apply on unmatching dimension\"\n",
    "\n",
    "    prod_matrix = list()\n",
    "\n",
    "    for ridx in range(size_a[0]):\n",
    "        row = list()\n",
    "        for ctr in range(size_b[1]):\n",
    "            sum = 0\n",
    "            for cidx in range(size_b[0]):\n",
    "                sum += (matrix_a[ridx][cidx] * matrix_b[cidx][ctr])\n",
    "            row.append(sum)\n",
    "        prod_matrix.append(row)\n",
    "\n",
    "    return prod_matrix\n"
   ]
  },
  {
   "cell_type": "code",
   "execution_count": 28,
   "metadata": {
    "colab": {
     "base_uri": "https://localhost:8080/"
    },
    "executionInfo": {
     "elapsed": 2,
     "status": "ok",
     "timestamp": 1695520848367,
     "user": {
      "displayName": "Ahmad Rashidh",
      "userId": "17250827789938225012"
     },
     "user_tz": -60
    },
    "id": "5Sr_7oTc59uV",
    "outputId": "746f830d-dcd8-4e15-b9d1-ccc382e34355"
   },
   "outputs": [
    {
     "name": "stdout",
     "output_type": "stream",
     "text": [
      "Multiplication of two matrices doesn't apply on unmatching dimension\n"
     ]
    }
   ],
   "source": [
    "matrix_a = [[1,2,3],[4,5,6]]\n",
    "matrix_b = [[7,8],[9,10]]\n",
    "print(multiply_matrices(matrix_a, matrix_b))"
   ]
  },
  {
   "cell_type": "code",
   "execution_count": 29,
   "metadata": {
    "colab": {
     "base_uri": "https://localhost:8080/"
    },
    "executionInfo": {
     "elapsed": 216,
     "status": "ok",
     "timestamp": 1695520848893,
     "user": {
      "displayName": "Ahmad Rashidh",
      "userId": "17250827789938225012"
     },
     "user_tz": -60
    },
    "id": "lcTQ-iPd59uV",
    "outputId": "7da4b525-93d4-40ea-af87-a48d02caf1b7"
   },
   "outputs": [
    {
     "name": "stdout",
     "output_type": "stream",
     "text": [
      "Output of multiply_matrices(): [[58, 64], [139, 154]]\n",
      "Output using numpy [[ 58  64]\n",
      " [139 154]]\n"
     ]
    }
   ],
   "source": [
    "matrix_a = [[1,2,3],[4,5,6]]\n",
    "matrix_b = [[7,8],[9,10],[11,12]]\n",
    "print(\"Output of multiply_matrices():\", multiply_matrices(matrix_a, matrix_b))\n",
    "print(\"Output using numpy\", np.matrix(matrix_a) * (np.matrix(matrix_b)))"
   ]
  },
  {
   "cell_type": "markdown",
   "metadata": {
    "id": "dcDfo12w59uV"
   },
   "source": [
    "#### Determinant of 2x2 matrix"
   ]
  },
  {
   "cell_type": "code",
   "execution_count": 30,
   "metadata": {
    "executionInfo": {
     "elapsed": 196,
     "status": "ok",
     "timestamp": 1695520851937,
     "user": {
      "displayName": "Ahmad Rashidh",
      "userId": "17250827789938225012"
     },
     "user_tz": -60
    },
    "id": "UFKn2GsB59uV"
   },
   "outputs": [],
   "source": [
    "def det_2x2matrix(matrix):\n",
    "    size = size_of_matrix(matrix)\n",
    "    if size[0] != 2 or size[1] != 2:\n",
    "        return \"ErrorMessage: Not a 2x2 matrix\"\n",
    "\n",
    "    return (matrix[0][0] * matrix[1][1]) - (matrix[0][1] * matrix[1][0])"
   ]
  },
  {
   "cell_type": "code",
   "execution_count": 31,
   "metadata": {
    "colab": {
     "base_uri": "https://localhost:8080/"
    },
    "executionInfo": {
     "elapsed": 5,
     "status": "ok",
     "timestamp": 1695520852590,
     "user": {
      "displayName": "Ahmad Rashidh",
      "userId": "17250827789938225012"
     },
     "user_tz": -60
    },
    "id": "WwPgNdsu59uW",
    "outputId": "e7c9305a-0cb8-4878-c54f-57cd15f3490b"
   },
   "outputs": [
    {
     "name": "stdout",
     "output_type": "stream",
     "text": [
      "ErrorMessage: Not a 2x2 matrix\n"
     ]
    }
   ],
   "source": [
    "matrix = [[1,2,3],[3,4,4]]\n",
    "print(det_2x2matrix(matrix))"
   ]
  },
  {
   "cell_type": "code",
   "execution_count": 32,
   "metadata": {
    "colab": {
     "base_uri": "https://localhost:8080/"
    },
    "executionInfo": {
     "elapsed": 207,
     "status": "ok",
     "timestamp": 1695520854235,
     "user": {
      "displayName": "Ahmad Rashidh",
      "userId": "17250827789938225012"
     },
     "user_tz": -60
    },
    "id": "Z09gOKj459uW",
    "outputId": "ab6f5093-c105-43d5-cd30-60b87fe16f15"
   },
   "outputs": [
    {
     "name": "stdout",
     "output_type": "stream",
     "text": [
      "Output of det_2x2matrix: -2\n",
      "Output of numpy.linalg.det(): -2.0000000000000004\n"
     ]
    }
   ],
   "source": [
    "matrix = [[1,2],[3,4]]\n",
    "print(\"Output of det_2x2matrix:\", det_2x2matrix(matrix))\n",
    "print(\"Output of numpy.linalg.det():\",np.linalg.det(np.array(matrix)))"
   ]
  },
  {
   "cell_type": "markdown",
   "metadata": {
    "id": "HIwI7iN859uW"
   },
   "source": [
    "#### Inverse of 2x2 matrix"
   ]
  },
  {
   "cell_type": "code",
   "execution_count": 33,
   "metadata": {
    "executionInfo": {
     "elapsed": 204,
     "status": "ok",
     "timestamp": 1695520857877,
     "user": {
      "displayName": "Ahmad Rashidh",
      "userId": "17250827789938225012"
     },
     "user_tz": -60
    },
    "id": "ibT2LTBs59uW"
   },
   "outputs": [],
   "source": [
    "def scalar_multiply_matrix(matrix, const):\n",
    "    prod_matrix = list()\n",
    "\n",
    "    for ridx in range(len(matrix)):\n",
    "        row = list()\n",
    "        for cidx in range(len(matrix[0])):\n",
    "            row.append(const * matrix[ridx][cidx])\n",
    "        prod_matrix.append(row)\n",
    "\n",
    "    return prod_matrix"
   ]
  },
  {
   "cell_type": "code",
   "execution_count": 34,
   "metadata": {
    "executionInfo": {
     "elapsed": 198,
     "status": "ok",
     "timestamp": 1695520861873,
     "user": {
      "displayName": "Ahmad Rashidh",
      "userId": "17250827789938225012"
     },
     "user_tz": -60
    },
    "id": "mi-y07Bj59uW"
   },
   "outputs": [],
   "source": [
    "def inverse_2x2matrix(matrix):\n",
    "    size = size_of_matrix(matrix)\n",
    "    det_matrix = det_2x2matrix(matrix)\n",
    "    if size[0] !=2 or size[1] != 2:\n",
    "        return \"Error: Not a 2x2 matrix\"\n",
    "    elif det_matrix == 0:\n",
    "        return \"Error: The matrix is not invertible\"\n",
    "    else:\n",
    "        # Negating b and c\n",
    "        matrix[0][1] = - matrix[0][1]\n",
    "        matrix[1][0] = - matrix[1][0]\n",
    "\n",
    "        # Swapping a and d\n",
    "        temp = matrix[0][0]\n",
    "        matrix[0][0] = matrix[1][1]\n",
    "        matrix[1][1] = temp\n",
    "\n",
    "        # Resultant matrix is of form [ [d, -b], [-c, a]]\n",
    "\n",
    "    return scalar_multiply_matrix(matrix, (1/det_matrix))"
   ]
  },
  {
   "cell_type": "code",
   "execution_count": 35,
   "metadata": {
    "colab": {
     "base_uri": "https://localhost:8080/"
    },
    "executionInfo": {
     "elapsed": 5,
     "status": "ok",
     "timestamp": 1695520862614,
     "user": {
      "displayName": "Ahmad Rashidh",
      "userId": "17250827789938225012"
     },
     "user_tz": -60
    },
    "id": "NDKLgpwe59uW",
    "outputId": "1da1e518-a1e7-4d9d-9861-3d9811e4260e"
   },
   "outputs": [
    {
     "name": "stdout",
     "output_type": "stream",
     "text": [
      "Error: Not a 2x2 matrix\n"
     ]
    }
   ],
   "source": [
    "matrix = [[4,7,5],[2,6,8]]\n",
    "print(inverse_2x2matrix(matrix))"
   ]
  },
  {
   "cell_type": "code",
   "execution_count": 36,
   "metadata": {
    "colab": {
     "base_uri": "https://localhost:8080/"
    },
    "executionInfo": {
     "elapsed": 199,
     "status": "ok",
     "timestamp": 1695520868570,
     "user": {
      "displayName": "Ahmad Rashidh",
      "userId": "17250827789938225012"
     },
     "user_tz": -60
    },
    "id": "d8U0Eq8Y59uW",
    "outputId": "d94bab3a-4e7f-49bf-8ba9-313208eef9de"
   },
   "outputs": [
    {
     "name": "stdout",
     "output_type": "stream",
     "text": [
      "Error: The matrix is not invertible\n"
     ]
    }
   ],
   "source": [
    "matrix = [[6,4],[3,2]]\n",
    "print(inverse_2x2matrix(matrix))"
   ]
  },
  {
   "cell_type": "code",
   "execution_count": 37,
   "metadata": {
    "colab": {
     "base_uri": "https://localhost:8080/"
    },
    "executionInfo": {
     "elapsed": 190,
     "status": "ok",
     "timestamp": 1695520870860,
     "user": {
      "displayName": "Ahmad Rashidh",
      "userId": "17250827789938225012"
     },
     "user_tz": -60
    },
    "id": "1tkVn6HL59uW",
    "outputId": "82406959-1147-4c3a-e9fe-47d18115260e"
   },
   "outputs": [
    {
     "name": "stdout",
     "output_type": "stream",
     "text": [
      "Output of inverse_of_2x2matrix(): [[0.6000000000000001, -0.7000000000000001], [-0.2, 0.4]]\n",
      "Output of np.linalg.inv(): [[ 0.6 -0.7]\n",
      " [-0.2  0.4]]\n"
     ]
    }
   ],
   "source": [
    "matrix = [[4,7],[2,6]]\n",
    "print(\"Output of inverse_of_2x2matrix():\", inverse_2x2matrix(matrix))\n",
    "print(\"Output of np.linalg.inv():\", np.linalg.inv([[4,7],[2,6]]))"
   ]
  }
 ],
 "metadata": {
  "colab": {
   "provenance": []
  },
  "kernelspec": {
   "display_name": "Python 3 (ipykernel)",
   "language": "python",
   "name": "python3"
  },
  "language_info": {
   "codemirror_mode": {
    "name": "ipython",
    "version": 3
   },
   "file_extension": ".py",
   "mimetype": "text/x-python",
   "name": "python",
   "nbconvert_exporter": "python",
   "pygments_lexer": "ipython3",
   "version": "3.11.4"
  }
 },
 "nbformat": 4,
 "nbformat_minor": 0
}
